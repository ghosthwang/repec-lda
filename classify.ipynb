{
 "metadata": {
  "name": "",
  "signature": "sha256:50914e4ea0d21c5c2d7dfd873d0fdf67a9a1bfd8cea4cf6918d851da8c532398"
 },
 "nbformat": 3,
 "nbformat_minor": 0,
 "worksheets": [
  {
   "cells": [
    {
     "cell_type": "code",
     "collapsed": false,
     "input": [
      "%matplotlib inline\n",
      "\n",
      "import sqlite3\n",
      "import itertools as it\n",
      "import html\n",
      "\n",
      "import matplotlib.pyplot as plt\n",
      "import numpy as np\n",
      "\n",
      "from nltk.stem.snowball import EnglishStemmer\n",
      "from nltk.tokenize import wordpunct_tokenize\n",
      "from nltk.corpus import stopwords\n",
      "\n",
      "from sklearn.feature_extraction.text import CountVectorizer\n",
      "\n",
      "from lda import LDA"
     ],
     "language": "python",
     "metadata": {},
     "outputs": [],
     "prompt_number": 10
    },
    {
     "cell_type": "code",
     "collapsed": false,
     "input": [
      "STARTDATE = 2014 # Look at articles only after this date\n",
      "N_CLUSTERS = 20 # No of topics\n",
      "TOPIC_THRESHOLD = 0.3 # The minimum probability of a topic for a document to be considered part of the topic. For reporting\n",
      "DATABASE = \"repec.sqlite\" # See the README on how to create this file"
     ],
     "language": "python",
     "metadata": {},
     "outputs": [],
     "prompt_number": 11
    },
    {
     "cell_type": "code",
     "collapsed": false,
     "input": [
      "# Get the data\n",
      "dbcon = sqlite3.connect(DATABASE)\n",
      "recs = dbcon.execute(\"\"\"SELECT id,\n",
      "                        CASE WHEN abstract ISNULL THEN '' ELSE abstract END,\n",
      "                        CASE WHEN title ISNULL THEN '' ELSE title END,\n",
      "                        series\n",
      "                        FROM article WHERE date>=?\"\"\",\n",
      "                    (STARTDATE,)).fetchall()\n",
      "dbcon.close()\n",
      "len(recs)"
     ],
     "language": "python",
     "metadata": {},
     "outputs": [
      {
       "metadata": {},
       "output_type": "pyout",
       "prompt_number": 12,
       "text": [
        "2459"
       ]
      }
     ],
     "prompt_number": 12
    },
    {
     "cell_type": "code",
     "collapsed": false,
     "input": [
      "# Create word countes\n",
      "# We drop punctuation, convert to lower case and stem\n",
      "# Words in title have \"T:\" prepended to them. This is\n",
      "#   my crude attempt to have occurence in title count\n",
      "#   separately from occurence in abstract.\n",
      "# Adjust min_df and max_df parameters to CountVectorizer to \n",
      "#   get enough features but not too many.\n",
      "\n",
      "stemmer = EnglishStemmer()\n",
      "stop = set(stopwords.words(\"english\"))\n",
      "\n",
      "def s_tokenize(text,pre=\"\"):\n",
      "    toks = (t.lower() for t in wordpunct_tokenize(text) if t.isalnum())    \n",
      "    return [pre+stemmer.stem(tok) for tok in toks if tok not in stop]\n",
      "\n",
      "def tokenize(rec):\n",
      "    return s_tokenize(rec[1],\"T:\")+s_tokenize(rec[2])\n",
      "    \n",
      "vectorizer = CountVectorizer(min_df=0.001,max_df=0.05,\n",
      "                             tokenizer = tokenize, \n",
      "                             lowercase = False,\n",
      "                             ngram_range=(1,2))\n",
      "\n",
      "X = vectorizer.fit_transform(recs)\n",
      "vocab = np.array(vectorizer.get_feature_names())\n",
      "X.shape"
     ],
     "language": "python",
     "metadata": {},
     "outputs": [
      {
       "metadata": {},
       "output_type": "pyout",
       "prompt_number": 13,
       "text": [
        "(2459, 12436)"
       ]
      }
     ],
     "prompt_number": 13
    },
    {
     "cell_type": "code",
     "collapsed": false,
     "input": [
      "# Fit the model and inspect loglikelihood to diagnose convergence\n",
      "\n",
      "lda = LDA(N_CLUSTERS)\n",
      "lda.fit(X)\n",
      "plt.plot(lda.loglikelihoods_[5:])"
     ],
     "language": "python",
     "metadata": {},
     "outputs": [
      {
       "output_type": "stream",
       "stream": "stderr",
       "text": [
        "WARNING:lda:all zero row in document-term matrix found\n"
       ]
      },
      {
       "metadata": {},
       "output_type": "pyout",
       "prompt_number": 14,
       "text": [
        "[<matplotlib.lines.Line2D at 0x7fe2b06aa160>]"
       ]
      },
      {
       "metadata": {},
       "output_type": "display_data",
       "png": "[encoded data removed]",
       "text": [
        "<matplotlib.figure.Figure at 0x7fe2b0afb240>"
       ]
      }
     ],
     "prompt_number": 14
    },
    {
     "cell_type": "code",
     "collapsed": false,
     "input": [
      "# Print the words with the highest probability for each topic to see what the topics are about\n",
      "# Because of the stemming and the prepending with \"T:\" this is not fit for human consumption\n",
      "\n",
      "N_TOP_WORDS = 8\n",
      "for i, topic_dist in enumerate(lda.topic_word_):\n",
      "    topic_words = vocab[np.argsort(topic_dist)[:-N_TOP_WORDS:-1]]\n",
      "    print('Topic {}: {}'.format(i, ', '.join(topic_words)))"
     ],
     "language": "python",
     "metadata": {},
     "outputs": [
      {
       "output_type": "stream",
       "stream": "stdout",
       "text": [
        "Topic 0: T:auction, T:signal, T:buyer, T:communic, T:seller, inform, T:bid\n",
        "Topic 1: T:liquid, T:loan, T:regul, T:lend, T:fund, T:financi T:crisi, T:deposit\n",
        "Topic 2: T:busi, T:busi T:cycl, T:fluctuat, T:friction, T:general T:equilibrium, T:calibr, T:macroeconom\n",
        "Topic 3: T:profit, T:entri, T:industri, T:consum, T:adjust, T:innov, T:sale\n",
        "Topic 4: T:bond, T:cash, T:corpor, T:investor, T:flow, T:spread, T:news\n",
        "Topic 5: T:contract, T:fund, T:ex, T:bargain, T:citationref, T:post, T:ex T:ant\n",
        "Topic 6: T:network, T:learn, T:resourc, T:interact, T:converg, T:choos, T:coordin\n",
        "Topic 7: T:intern, T:foreign, T:region, T:industri, T:global, T:extern, T:integr\n",
        "Topic 8: T:equationsourc, T:mi, T:math, T:format, T:inlineequ, T:equationsourc T:format, T:xlink\n",
        "Topic 9: T:consum, T:save, T:wealth, T:discount, T:insur, T:expenditur, T:inequ\n",
        "Topic 10: T:payoff, T:belief, T:action, T:perfect, T:nash, T:space, game\n",
        "Topic 11: T:portfolio, T:avers, T:option, T:investor, T:forecast, T:index, T:risk T:avers\n",
        "Topic 12: T:inflat, T:fiscal, T:interest T:rate, T:central, monetari, T:long T:run, T:short\n",
        "Topic 13: T:percent, T:unit, T:panel, T:document, T:0, T:previous, T:unit T:state\n",
        "Topic 14: T:ambigu, T:comput, T:solut, T:linear, T:simul, T:approxim, T:continu\n",
        "Topic 15: T:pareto, T:domin, T:satisfi, T:rank, T:assign, T:core, T:maxim\n",
        "Topic 16: T:debt, T:default, T:hous, T:financ, T:constraint, T:borrow, T:collater\n",
        "Topic 17: T:school, T:colleg, T:student, T:health, T:insur, T:program, T:educ\n",
        "Topic 18: T:worker, T:tax, T:wage, T:unemploy, T:job, T:skill, T:human\n",
        "Topic 19: T:vote, T:group, T:polit, T:voter, T:particip, T:experiment, T:major\n"
       ]
      }
     ],
     "prompt_number": 15
    },
    {
     "cell_type": "code",
     "collapsed": false,
     "input": [
      "# Make one cluster of articles from each topic. \n",
      "\n",
      "clusts = []\n",
      "for i in range(len(recs)):\n",
      "    c = set()\n",
      "    for j in range(N_CLUSTERS):\n",
      "        if lda.doc_topic_[i,j]>TOPIC_THRESHOLD:\n",
      "            c.add(j)\n",
      "    c.add(lda.doc_topic_[i].argmax())\n",
      "    clusts.extend((recs[i][0],str(j)) for j in c)"
     ],
     "language": "python",
     "metadata": {},
     "outputs": [],
     "prompt_number": 16
    },
    {
     "cell_type": "code",
     "collapsed": false,
     "input": [
      "# Update the database with the cluster labels for articles\n",
      "\n",
      "dbcon = sqlite3.connect(DATABASE)\n",
      "dbcon.execute(\"DROP TABLE IF EXISTS label\")\n",
      "dbcon.execute(\"CREATE TABLE label (id TEXT, label TEXT)\")\n",
      "dbcon.execute(\"CREATE INDEX idix ON label(label)\")\n",
      "dbcon.execute(\"CREATE INDEX labelix ON label(label)\")\n",
      "dbcon.executemany(\"INSERT INTO label VALUES (?,?)\",clusts)\n",
      "dbcon.commit()\n",
      "dbcon.close()"
     ],
     "language": "python",
     "metadata": {},
     "outputs": [],
     "prompt_number": 17
    },
    {
     "cell_type": "code",
     "collapsed": false,
     "input": [
      "# Generate cluster-wise HTML files linking to the articles\n",
      "\n",
      "dbcon = sqlite3.connect(DATABASE)\n",
      "distinct_labs = [str(j) for j in range(N_CLUSTERS)]\n",
      "with open(\"index.html\",\"w\") as f:\n",
      "    print('<html><head><meta charset=\"UTF-8\"></head><body>',file=f)\n",
      "    print(\"<ul>\",file=f)\n",
      "    for lab in distinct_labs:\n",
      "        print('<li><a href=\"cluster{}.html\">Cluster {}</a></li>'.format(lab,lab),file=f)\n",
      "    print(\"</ul>\",file=f)\n",
      "    print(\"</body></html>\",file=f)\n",
      "for lab in distinct_labs:\n",
      "    cur = dbcon.execute(\"\"\"SELECT title,authors,name,date,url FROM article,label,series \n",
      "                            WHERE article.id=label.id AND series=seriesid AND label.label=?\n",
      "                            ORDER BY date DESC\"\"\",(lab,))\n",
      "    with open(\"cluster{}.html\".format(lab),\"w\") as f:\n",
      "        print('<html><head><meta charset=\"UTF-8\"></head><body><ul>',file=f)\n",
      "        for t,a,n,d,u in cur:\n",
      "            if t is None:\n",
      "                continue\n",
      "            deco_t = None\n",
      "            if u is not None:\n",
      "                deco_t = '<a href=\"{}\">{}</a>'.format(html.escape(u),html.escape(t))\n",
      "            else:\n",
      "                deco_t = html.escape(t)\n",
      "            print(\"<li>{} ({}). {}, <i>{}</i>.</li>\".format(html.escape(a),\n",
      "                                                            html.escape(d),\n",
      "                                                            deco_t,\n",
      "                                                            html.escape(n)),\n",
      "                    file = f)\n",
      "            \n",
      "dbcon.close()"
     ],
     "language": "python",
     "metadata": {},
     "outputs": [],
     "prompt_number": 18
    },
    {
     "cell_type": "code",
     "collapsed": false,
     "input": [],
     "language": "python",
     "metadata": {},
     "outputs": [],
     "prompt_number": 18
    }
   ],
   "metadata": {}
  }
 ]
}